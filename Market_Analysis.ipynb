{
 "cells": [
  {
   "cell_type": "markdown",
   "metadata": {},
   "source": [
    "# *Kenyan E-commerce Market Analysis System*\n"
   ]
  },
  {
   "cell_type": "markdown",
   "metadata": {},
   "source": [
    "\\\\By Grace Rotich\\\\"
   ]
  },
  {
   "cell_type": "markdown",
   "metadata": {},
   "source": [
    "# Business Understanding\n",
    "\n",
    "## Project Overview\n",
    "The objective of this project is to analyze Kenyan e-commerce market trends by scraping product data from popular e-commerce platforms such as **Jumia**, **Kilimall**, and **Masoko**. We aim to provide insights into pricing trends, compare products across platforms, track fluctuations in price, and develop a price alert system for users.\n",
    "\n",
    "## Key Questions\n",
    "- **How do product prices vary across different e-commerce platforms?**\n",
    "- **What are the trends in product pricing over time on these platforms?**\n",
    "- **Which products exhibit the most significant price fluctuations?**\n",
    "- **What are the average price ranges for product categories across platforms?**\n",
    "- **How can we notify customers when prices drop significantly?**\n",
    "\n",
    "## Project Deliverables\n",
    "1. **Price Trend Analysis**: Insights into the changes in product prices over time.\n",
    "2. **Price Comparison Tool**: A comparison feature for products on different platforms.\n",
    "3. **Interactive Dashboards**: Visualizations showing trends and comparisons.\n",
    "4. **Price Alert System**: Real-time price alerts based on user-defined thresholds.\n",
    "5. **E-commerce Market Insights**: Key market insights from the collected data.\n",
    "\n",
    "## Stakeholders\n",
    "- **E-commerce Customers**: Benefit from price comparison and alerts.\n",
    "- **E-commerce Platforms**: Can gain insights into their pricing relative to competitors.\n",
    "- **Data Scientists/Analysts**: Responsible for analysis and model building.\n",
    "- **Marketing/Business Teams**: Can use insights for strategic decision-making.\n",
    "\n",
    "## Success Criteria\n",
    "- **Data Accuracy**: Ensure data is scraped correctly and is up-to-date.\n",
    "- **Insightful Analysis**: Provide actionable insights from the data.\n",
    "- **Effective Alerts**: Deliver timely price alerts.\n",
    "- **User Engagement**: Measure user interaction with the tools.\n",
    "\n",
    "## Scope and Constraints\n",
    "- **Scope**: Initially focus on smartphones, electronics, and home appliances.\n",
    "- **Constraints**: Anti-scraping measures on platforms, potential rate limits, and SMTP delivery reliability.\n",
    "\n",
    "## Timeline\n",
    "- **Week 1-2**: Data Collection from platforms.\n",
    "- **Week 3-4**: Data Cleaning & Preparation.\n",
    "- **Week 5-6**: Analysis & Visualization.\n",
    "- **Week 7-8**: Implement Price Alerts.\n",
    "- **Week 9**: Final Report & Presentation.\n"
   ]
  },
  {
   "cell_type": "markdown",
   "metadata": {},
   "source": []
  }
 ],
 "metadata": {
  "language_info": {
   "name": "python"
  }
 },
 "nbformat": 4,
 "nbformat_minor": 2
}
